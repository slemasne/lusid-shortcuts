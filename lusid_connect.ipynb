{
 "cells": [
  {
   "cell_type": "code",
   "execution_count": 8,
   "metadata": {},
   "outputs": [],
   "source": [
    "# Import LUSID\n",
    "\n",
    "import lusid\n",
    "import lusidtools"
   ]
  },
  {
   "cell_type": "code",
   "execution_count": 31,
   "metadata": {},
   "outputs": [],
   "source": [
    "# Define a variable for location of secrets file\n",
    "# Initiate the API factory\n",
    "\n",
    "secrets_file = r\"secrets.json\"\n",
    "api_factory = lusid.utilities.ApiClientFactory(api_secrets_filename=secrets_file)"
   ]
  },
  {
   "cell_type": "code",
   "execution_count": 18,
   "metadata": {},
   "outputs": [],
   "source": [
    "# Test the API is working by listing out some scopes\n",
    "\n",
    "list_scopes = api_factory.build(lusid.api.ScopesApi).list_scopes()"
   ]
  },
  {
   "cell_type": "code",
   "execution_count": 32,
   "metadata": {},
   "outputs": [
    {
     "data": {
      "text/plain": [
       "[{'scope': 'test3slm1'},\n",
       " {'scope': 'branch_37e6-c588-fc0c-22'},\n",
       " {'scope': 'TechStrategy1'},\n",
       " {'scope': 'TechStrategy'},\n",
       " {'scope': 'slm1'},\n",
       " {'scope': 'Snug'},\n",
       " {'scope': 'reporting_37ec-e59b-c320-46'},\n",
       " {'scope': 'snug'},\n",
       " {'scope': 'branch_37ec-e59b-c31f-d8'},\n",
       " {'scope': 'branch_37ec-e59b-c320-2c'}]"
      ]
     },
     "execution_count": 32,
     "metadata": {},
     "output_type": "execute_result"
    }
   ],
   "source": [
    "# Convert the response to a dict and print first 10 values\n",
    "\n",
    "list_scopes.to_dict()[\"values\"][-10:]"
   ]
  }
 ],
 "metadata": {
  "kernelspec": {
   "display_name": "Python 3",
   "language": "python",
   "name": "python3"
  },
  "language_info": {
   "codemirror_mode": {
    "name": "ipython",
    "version": 3
   },
   "file_extension": ".py",
   "mimetype": "text/x-python",
   "name": "python",
   "nbconvert_exporter": "python",
   "pygments_lexer": "ipython3",
   "version": "3.6.5"
  }
 },
 "nbformat": 4,
 "nbformat_minor": 2
}
